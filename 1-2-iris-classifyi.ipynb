{
 "cells": [
  {
   "cell_type": "code",
   "execution_count": null,
   "id": "b437c5e9-21f4-4d02-9d02-b610b21fef3b",
   "metadata": {},
   "outputs": [],
   "source": [
    "import numpy as np\n",
    "import pandas as pd\n",
    "import matplotlib.pyplot as plt\n",
    "from sklearn.datasets import load_iris\n",
    "from sklearn.model_selection import train_test_split\n",
    "from sklearn.preprocessing import StandardScaler\n",
    "from sklearn.linear_model import LogisticRegression\n",
    "from sklearn.neighbors import KNeighborsClassifier\n",
    "from sklearn.svm import SVC\n",
    "from sklearn.metrics import accuracy_score, confusion_matrix,ConfusionMatrixDisplay"
   ]
  },
  {
   "cell_type": "code",
   "execution_count": null,
   "id": "94df36e8-6445-41fa-a874-a871d28cdfc0",
   "metadata": {},
   "outputs": [],
   "source": [
    "#Iris veri setini yükleyelim\n",
    "iris = load_iris()\n",
    "x = iris.data\n",
    "y = iris.target\n",
    "features = iris.feature_names\n"
   ]
  },
  {
   "cell_type": "code",
   "execution_count": null,
   "id": "f871e8bb-7dfe-4c0b-bb42-7b7a4d580eba",
   "metadata": {},
   "outputs": [],
   "source": [
    "#veriyi DataFrame ' e çevirelim\n",
    "df = pd.DataFrame(x, columns = features)\n",
    "df['species'] = y "
   ]
  },
  {
   "cell_type": "code",
   "execution_count": null,
   "id": "00b18ce2-7329-42a3-b0be-ad6f4331a3fa",
   "metadata": {},
   "outputs": [],
   "source": [
    "# Veriyi normalize edelim \n",
    "scaler = StandardScaler()\n",
    "x_scaled = scaler.fit_transform(x)\n"
   ]
  },
  {
   "cell_type": "code",
   "execution_count": null,
   "id": "0145b1e7-bccb-49aa-b608-2a93a51bce6d",
   "metadata": {},
   "outputs": [],
   "source": [
    "#veriyi test, train \n",
    "x_train, x_test, y_train, y_test = train_test_split(x,y, test_size=0.3, random_state = 60)"
   ]
  },
  {
   "cell_type": "code",
   "execution_count": null,
   "id": "4751deda-d2e2-42b0-a9da-d19b4c0c5af6",
   "metadata": {},
   "outputs": [],
   "source": [
    "models = { \"Logistic Regression\": LogisticRegression(), \n",
    "         \"K-NN\": KNeighborsClassifier(), \n",
    "         \"SVM\":SVC() }"
   ]
  },
  {
   "cell_type": "code",
   "execution_count": null,
   "id": "1eba053f-77f2-4036-9af8-46b994faf0c4",
   "metadata": {},
   "outputs": [],
   "source": [
    "# 3 ayrı model kullanacağımız için her birinin başarım değerlerini bir sözlükte tutalım\n",
    "accuracy_values = {}"
   ]
  },
  {
   "cell_type": "code",
   "execution_count": null,
   "id": "f8b17d63-1154-46c7-9a5e-86baca697cb9",
   "metadata": {},
   "outputs": [],
   "source": [
    "for model_name, model in models.items():\n",
    "    #modelimizi eğitelim\n",
    "    model.fit(x_train, y_train)\n",
    "    # test verisi ile tahmin yapalım\n",
    "    y_prediction = model.predict(x_test)\n",
    "    \n",
    "    # doğruluk oranını hesaplayalım\n",
    "    accuracy = accuracy_score(y_test, y_prediction)\n",
    "    \n",
    "    # accuracy değerini accuracy sözlüğümüze kaydedelim\n",
    "    accuracy_values[model_name] = accuracy\n",
    "    # Confusion matrix hesapla\n",
    "    \n",
    "    cm = confusion_matrix(y_test, y_prediction)\n",
    "    \n",
    "    "
   ]
  },
  {
   "cell_type": "code",
   "execution_count": null,
   "id": "3edfbfe6-4d4e-46ed-89ed-639c6ebfa4a9",
   "metadata": {},
   "outputs": [],
   "source": [
    "print(\"Doğruluk oranları :\")\n",
    "for model_name, accuracy in accuracy_values.items():\n",
    "    print(f\"{model_name}:{accuracy* 100: .3f}\")\n",
    "    \n",
    "    # Confusion matrix görselleştir\n",
    "    disp = ConfusionMatrixDisplay(confusion_matrix=cm)\n",
    "    disp.plot(cmap='Blues')\n",
    "    plt.title(f\"{model_name} - Confusion Matrix\")\n",
    "    plt.show()"
   ]
  },
  {
   "cell_type": "code",
   "execution_count": null,
   "id": "16e0583b-9cc1-4b85-98fd-dd8c8981fb3d",
   "metadata": {},
   "outputs": [],
   "source": []
  }
 ],
 "metadata": {
  "kernelspec": {
   "display_name": "Python 3 (ipykernel)",
   "language": "python",
   "name": "python3"
  },
  "language_info": {
   "codemirror_mode": {
    "name": "ipython",
    "version": 3
   },
   "file_extension": ".py",
   "mimetype": "text/x-python",
   "name": "python",
   "nbconvert_exporter": "python",
   "pygments_lexer": "ipython3",
   "version": "3.9.21"
  }
 },
 "nbformat": 4,
 "nbformat_minor": 5
}
